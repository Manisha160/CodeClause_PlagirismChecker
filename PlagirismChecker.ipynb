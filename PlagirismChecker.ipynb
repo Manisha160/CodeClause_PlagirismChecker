{
 "cells": [
  {
   "cell_type": "code",
   "execution_count": 4,
   "id": "829d0870",
   "metadata": {},
   "outputs": [
    {
     "name": "stdout",
     "output_type": "stream",
     "text": [
      "[[1.         1.         0.81649073]\n",
      " [1.         1.         0.81649073]\n",
      " [0.81649073 0.81649073 1.        ]]\n"
     ]
    }
   ],
   "source": [
    "# Import required libraries\n",
    "import numpy as np\n",
    "import pandas as pd\n",
    "from sklearn.feature_extraction.text import TfidfVectorizer\n",
    "from sklearn.metrics.pairwise import cosine_similarity\n",
    "\n",
    "# Define the documents to compare\n",
    "doc1 = \"The quick brown fox jumps over the lazy dog\"\n",
    "doc2 = \"The brown quick fox jumps over the lazy dog\"\n",
    "doc3 = \"The fast brown fox jumps over the lazy dog\"\n",
    "\n",
    "# Combine the documents into a list\n",
    "docs = [doc1, doc2, doc3]\n",
    "\n",
    "# Initialize the TfidfVectorizer\n",
    "vectorizer = TfidfVectorizer()\n",
    "\n",
    "# Fit and transform the documents\n",
    "doc_vectors = vectorizer.fit_transform(docs)\n",
    "\n",
    "# Compute the cosine similarity between the documents\n",
    "similarity_matrix = cosine_similarity(doc_vectors)\n",
    "\n",
    "# Print the similarity matrix\n",
    "print(similarity_matrix)\n"
   ]
  },
  {
   "cell_type": "code",
   "execution_count": null,
   "id": "307c545c",
   "metadata": {},
   "outputs": [],
   "source": []
  }
 ],
 "metadata": {
  "kernelspec": {
   "display_name": "Python 3 (ipykernel)",
   "language": "python",
   "name": "python3"
  },
  "language_info": {
   "codemirror_mode": {
    "name": "ipython",
    "version": 3
   },
   "file_extension": ".py",
   "mimetype": "text/x-python",
   "name": "python",
   "nbconvert_exporter": "python",
   "pygments_lexer": "ipython3",
   "version": "3.9.13"
  }
 },
 "nbformat": 4,
 "nbformat_minor": 5
}
